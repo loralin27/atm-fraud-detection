{
 "cells": [
  {
   "cell_type": "markdown",
   "id": "4405525a-a305-40a8-9301-4e0477ffcf31",
   "metadata": {},
   "source": [
    "### Import Libraries\n"
   ]
  },
  {
   "cell_type": "code",
   "execution_count": 112,
   "id": "8be462a9-7a13-41db-8c83-7f19e37d3b9f",
   "metadata": {},
   "outputs": [],
   "source": [
    "import pandas as pd\n",
    "import numpy as np\n",
    "import seaborn as sns\n",
    "import matplotlib.pyplot as plt\n",
    "\n",
    "from sklearn.model_selection import train_test_split\n",
    "from sklearn.preprocessing import StandardScaler\n",
    "from sklearn.ensemble import RandomForestClassifier\n",
    "from sklearn.metrics import classification_report, roc_auc_score, f1_score, precision_score, recall_score, roc_curve, auc\n",
    "from imblearn.over_sampling import SMOTE\n",
    "import warnings\n",
    "warnings.filterwarnings('ignore')\n",
    "\n",
    "\n"
   ]
  },
  {
   "cell_type": "markdown",
   "id": "e97a148b-ac31-4281-ae61-eb70bdb878d2",
   "metadata": {},
   "source": [
    "### Load and Explore Data"
   ]
  },
  {
   "cell_type": "code",
   "execution_count": 113,
   "id": "12e2d234-e930-4fb1-9166-5068db86287a",
   "metadata": {},
   "outputs": [],
   "source": [
    "df = pd.read_csv(\"C:\\\\Users\\\\Hp\\\\Downloads\\\\bank_transactions_data_2.csv\")\n",
    "df['TransactionDate'] = pd.to_datetime(df['TransactionDate'])\n",
    "df['PreviousTransactionDate'] = pd.to_datetime(df['PreviousTransactionDate'])\n",
    "df['TransactionHour'] = df['TransactionDate'].dt.hour\n",
    "\n",
    "\n"
   ]
  },
  {
   "cell_type": "code",
   "execution_count": 114,
   "id": "0d6107af-75ed-47e4-b567-30be365b736b",
   "metadata": {},
   "outputs": [
    {
     "data": {
      "text/html": [
       "<div>\n",
       "<style scoped>\n",
       "    .dataframe tbody tr th:only-of-type {\n",
       "        vertical-align: middle;\n",
       "    }\n",
       "\n",
       "    .dataframe tbody tr th {\n",
       "        vertical-align: top;\n",
       "    }\n",
       "\n",
       "    .dataframe thead th {\n",
       "        text-align: right;\n",
       "    }\n",
       "</style>\n",
       "<table border=\"1\" class=\"dataframe\">\n",
       "  <thead>\n",
       "    <tr style=\"text-align: right;\">\n",
       "      <th></th>\n",
       "      <th>TransactionID</th>\n",
       "      <th>AccountID</th>\n",
       "      <th>TransactionAmount</th>\n",
       "      <th>TransactionDate</th>\n",
       "      <th>TransactionType</th>\n",
       "      <th>Location</th>\n",
       "      <th>DeviceID</th>\n",
       "      <th>IP Address</th>\n",
       "      <th>MerchantID</th>\n",
       "      <th>Channel</th>\n",
       "      <th>CustomerAge</th>\n",
       "      <th>CustomerOccupation</th>\n",
       "      <th>TransactionDuration</th>\n",
       "      <th>LoginAttempts</th>\n",
       "      <th>AccountBalance</th>\n",
       "      <th>PreviousTransactionDate</th>\n",
       "      <th>TransactionHour</th>\n",
       "    </tr>\n",
       "  </thead>\n",
       "  <tbody>\n",
       "    <tr>\n",
       "      <th>0</th>\n",
       "      <td>TX000001</td>\n",
       "      <td>AC00128</td>\n",
       "      <td>14.09</td>\n",
       "      <td>2023-04-11 16:29:14</td>\n",
       "      <td>Debit</td>\n",
       "      <td>San Diego</td>\n",
       "      <td>D000380</td>\n",
       "      <td>162.198.218.92</td>\n",
       "      <td>M015</td>\n",
       "      <td>ATM</td>\n",
       "      <td>70</td>\n",
       "      <td>Doctor</td>\n",
       "      <td>81</td>\n",
       "      <td>1</td>\n",
       "      <td>5112.21</td>\n",
       "      <td>2024-11-04 08:08:08</td>\n",
       "      <td>16</td>\n",
       "    </tr>\n",
       "    <tr>\n",
       "      <th>1</th>\n",
       "      <td>TX000002</td>\n",
       "      <td>AC00455</td>\n",
       "      <td>376.24</td>\n",
       "      <td>2023-06-27 16:44:19</td>\n",
       "      <td>Debit</td>\n",
       "      <td>Houston</td>\n",
       "      <td>D000051</td>\n",
       "      <td>13.149.61.4</td>\n",
       "      <td>M052</td>\n",
       "      <td>ATM</td>\n",
       "      <td>68</td>\n",
       "      <td>Doctor</td>\n",
       "      <td>141</td>\n",
       "      <td>1</td>\n",
       "      <td>13758.91</td>\n",
       "      <td>2024-11-04 08:09:35</td>\n",
       "      <td>16</td>\n",
       "    </tr>\n",
       "    <tr>\n",
       "      <th>2</th>\n",
       "      <td>TX000003</td>\n",
       "      <td>AC00019</td>\n",
       "      <td>126.29</td>\n",
       "      <td>2023-07-10 18:16:08</td>\n",
       "      <td>Debit</td>\n",
       "      <td>Mesa</td>\n",
       "      <td>D000235</td>\n",
       "      <td>215.97.143.157</td>\n",
       "      <td>M009</td>\n",
       "      <td>Online</td>\n",
       "      <td>19</td>\n",
       "      <td>Student</td>\n",
       "      <td>56</td>\n",
       "      <td>1</td>\n",
       "      <td>1122.35</td>\n",
       "      <td>2024-11-04 08:07:04</td>\n",
       "      <td>18</td>\n",
       "    </tr>\n",
       "    <tr>\n",
       "      <th>3</th>\n",
       "      <td>TX000004</td>\n",
       "      <td>AC00070</td>\n",
       "      <td>184.50</td>\n",
       "      <td>2023-05-05 16:32:11</td>\n",
       "      <td>Debit</td>\n",
       "      <td>Raleigh</td>\n",
       "      <td>D000187</td>\n",
       "      <td>200.13.225.150</td>\n",
       "      <td>M002</td>\n",
       "      <td>Online</td>\n",
       "      <td>26</td>\n",
       "      <td>Student</td>\n",
       "      <td>25</td>\n",
       "      <td>1</td>\n",
       "      <td>8569.06</td>\n",
       "      <td>2024-11-04 08:09:06</td>\n",
       "      <td>16</td>\n",
       "    </tr>\n",
       "    <tr>\n",
       "      <th>4</th>\n",
       "      <td>TX000005</td>\n",
       "      <td>AC00411</td>\n",
       "      <td>13.45</td>\n",
       "      <td>2023-10-16 17:51:24</td>\n",
       "      <td>Credit</td>\n",
       "      <td>Atlanta</td>\n",
       "      <td>D000308</td>\n",
       "      <td>65.164.3.100</td>\n",
       "      <td>M091</td>\n",
       "      <td>Online</td>\n",
       "      <td>26</td>\n",
       "      <td>Student</td>\n",
       "      <td>198</td>\n",
       "      <td>1</td>\n",
       "      <td>7429.40</td>\n",
       "      <td>2024-11-04 08:06:39</td>\n",
       "      <td>17</td>\n",
       "    </tr>\n",
       "  </tbody>\n",
       "</table>\n",
       "</div>"
      ],
      "text/plain": [
       "  TransactionID AccountID  TransactionAmount     TransactionDate  \\\n",
       "0      TX000001   AC00128              14.09 2023-04-11 16:29:14   \n",
       "1      TX000002   AC00455             376.24 2023-06-27 16:44:19   \n",
       "2      TX000003   AC00019             126.29 2023-07-10 18:16:08   \n",
       "3      TX000004   AC00070             184.50 2023-05-05 16:32:11   \n",
       "4      TX000005   AC00411              13.45 2023-10-16 17:51:24   \n",
       "\n",
       "  TransactionType   Location DeviceID      IP Address MerchantID Channel  \\\n",
       "0           Debit  San Diego  D000380  162.198.218.92       M015     ATM   \n",
       "1           Debit    Houston  D000051     13.149.61.4       M052     ATM   \n",
       "2           Debit       Mesa  D000235  215.97.143.157       M009  Online   \n",
       "3           Debit    Raleigh  D000187  200.13.225.150       M002  Online   \n",
       "4          Credit    Atlanta  D000308    65.164.3.100       M091  Online   \n",
       "\n",
       "   CustomerAge CustomerOccupation  TransactionDuration  LoginAttempts  \\\n",
       "0           70             Doctor                   81              1   \n",
       "1           68             Doctor                  141              1   \n",
       "2           19            Student                   56              1   \n",
       "3           26            Student                   25              1   \n",
       "4           26            Student                  198              1   \n",
       "\n",
       "   AccountBalance PreviousTransactionDate  TransactionHour  \n",
       "0         5112.21     2024-11-04 08:08:08               16  \n",
       "1        13758.91     2024-11-04 08:09:35               16  \n",
       "2         1122.35     2024-11-04 08:07:04               18  \n",
       "3         8569.06     2024-11-04 08:09:06               16  \n",
       "4         7429.40     2024-11-04 08:06:39               17  "
      ]
     },
     "execution_count": 114,
     "metadata": {},
     "output_type": "execute_result"
    }
   ],
   "source": [
    "df.head()"
   ]
  },
  {
   "cell_type": "markdown",
   "id": "51350103-6316-4e79-bebf-d5b58fb9b1f0",
   "metadata": {},
   "source": [
    "### Checking for null values"
   ]
  },
  {
   "cell_type": "code",
   "execution_count": 115,
   "id": "ca36af76-1016-46eb-b2b4-b8d355287646",
   "metadata": {},
   "outputs": [
    {
     "data": {
      "text/plain": [
       "TransactionID              0\n",
       "AccountID                  0\n",
       "TransactionAmount          0\n",
       "TransactionDate            0\n",
       "TransactionType            0\n",
       "Location                   0\n",
       "DeviceID                   0\n",
       "IP Address                 0\n",
       "MerchantID                 0\n",
       "Channel                    0\n",
       "CustomerAge                0\n",
       "CustomerOccupation         0\n",
       "TransactionDuration        0\n",
       "LoginAttempts              0\n",
       "AccountBalance             0\n",
       "PreviousTransactionDate    0\n",
       "TransactionHour            0\n",
       "dtype: int64"
      ]
     },
     "execution_count": 115,
     "metadata": {},
     "output_type": "execute_result"
    }
   ],
   "source": [
    "df.isnull().sum()"
   ]
  },
  {
   "cell_type": "markdown",
   "id": "05c48f83-459c-4ae1-822c-b74fe2783d29",
   "metadata": {},
   "source": [
    "### Labeling based on rules"
   ]
  },
  {
   "cell_type": "code",
   "execution_count": 116,
   "id": "f31b15f6-e150-45c8-b2e4-28492cab2903",
   "metadata": {},
   "outputs": [],
   "source": [
    "df['is_fraud'] = (\n",
    "    (df['TransactionAmount'] > 1000) |\n",
    "    (df['LoginAttempts'] > 3) |\n",
    "    (df['TransactionHour'].isin([0,1,2,3,4,5,23])) |\n",
    "    (df['TransactionDuration'] > 250)\n",
    ").astype(int)"
   ]
  },
  {
   "cell_type": "markdown",
   "id": "6a96d611-43b8-4996-bb07-1016dc5ef888",
   "metadata": {},
   "source": [
    "### Visualize"
   ]
  },
  {
   "cell_type": "code",
   "execution_count": 117,
   "id": "25a76b83-9a2f-4889-ac93-ba57a6fcf4bf",
   "metadata": {},
   "outputs": [
    {
     "data": {
      "image/png": "[encoded data removed]",
      "text/plain": [
       "<Figure size 640x480 with 1 Axes>"
      ]
     },
     "metadata": {},
     "output_type": "display_data"
    }
   ],
   "source": [
    "sns.countplot(x='is_fraud', data=df)\n",
    "plt.title(\"Fraud vs Non-Fraud\")\n",
    "plt.show()"
   ]
  },
  {
   "cell_type": "code",
   "execution_count": 118,
   "id": "7ae6d66a-b86c-4526-b69f-30d8a1de95c2",
   "metadata": {},
   "outputs": [
    {
     "data": {
      "image/png": "[encoded data removed]",
      "text/plain": [
       "<Figure size 640x480 with 1 Axes>"
      ]
     },
     "metadata": {},
     "output_type": "display_data"
    }
   ],
   "source": [
    "sns.boxplot(x='is_fraud', y='TransactionAmount', data=df)\n",
    "plt.title(\"Amount Distribution by Transaction Type\")\n",
    "plt.show()\n"
   ]
  },
  {
   "cell_type": "code",
   "execution_count": 119,
   "id": "a59cfd4f-a903-41cf-91ce-02f1d2652302",
   "metadata": {},
   "outputs": [
    {
     "data": {
      "image/png": "[encoded data removed]",
      "text/plain": [
       "<Figure size 640x480 with 1 Axes>"
      ]
     },
     "metadata": {},
     "output_type": "display_data"
    }
   ],
   "source": [
    "\n",
    "sns.histplot(data=df, x='TransactionHour', hue='is_fraud', multiple='stack', bins=24)\n",
    "plt.title(\"Fraud Pattern by Hour\")\n",
    "plt.show()\n",
    "\n"
   ]
  },
  {
   "cell_type": "markdown",
   "id": "ea586c0e-72d2-4a30-a483-601af5968e1f",
   "metadata": {},
   "source": [
    "### Data Preprocessing"
   ]
  },
  {
   "cell_type": "code",
   "execution_count": 120,
   "id": "c9ed1f68-8bf7-47ca-a371-0ec0147d862a",
   "metadata": {},
   "outputs": [],
   "source": [
    "# One-hot encode categorical\n",
    "X = pd.get_dummies(df.drop(columns=['TransactionID','AccountID','TransactionDate','PreviousTransactionDate','IP Address','is_fraud']), drop_first=True)\n",
    "y = df['is_fraud']"
   ]
  },
  {
   "cell_type": "markdown",
   "id": "4abb1a63-19e4-4b6b-9961-33ab185e91a7",
   "metadata": {},
   "source": [
    "### Machine Learning Models"
   ]
  },
  {
   "cell_type": "code",
   "execution_count": 121,
   "id": "673dcf46-f50e-4889-81f2-19a7bbe73e2a",
   "metadata": {},
   "outputs": [
    {
     "name": "stdout",
     "output_type": "stream",
     "text": [
      "Requirement already satisfied: xgboost in c:\\users\\hp\\anaconda3\\lib\\site-packages (3.0.2)\n",
      "Requirement already satisfied: numpy in c:\\users\\hp\\anaconda3\\lib\\site-packages (from xgboost) (1.26.4)\n",
      "Requirement already satisfied: scipy in c:\\users\\hp\\anaconda3\\lib\\site-packages (from xgboost) (1.11.4)\n",
      "Note: you may need to restart the kernel to use updated packages.\n"
     ]
    }
   ],
   "source": [
    "pip install xgboost\n"
   ]
  },
  {
   "cell_type": "code",
   "execution_count": 122,
   "id": "d36a7b13-a7a6-4d93-87a6-9a4ba382cc74",
   "metadata": {},
   "outputs": [],
   "source": [
    "from sklearn.linear_model import LogisticRegression\n",
    "from sklearn.tree import DecisionTreeClassifier\n",
    "from sklearn.ensemble import RandomForestClassifier\n",
    "from sklearn.svm import SVC\n",
    "from xgboost import XGBClassifier\n",
    "from sklearn.naive_bayes import GaussianNB\n",
    "from sklearn.neighbors import KNeighborsClassifier"
   ]
  },
  {
   "cell_type": "code",
   "execution_count": 123,
   "id": "be016a7e-a202-4f7c-8fbe-627d526c9986",
   "metadata": {},
   "outputs": [],
   "source": [
    "from sklearn.model_selection import train_test_split\n",
    "\n",
    "X_train, X_test, y_train, y_test = train_test_split(X, y, test_size=0.3, random_state=42, stratify=y)"
   ]
  },
  {
   "cell_type": "code",
   "execution_count": 124,
   "id": "990605b8-6be8-42e1-be8b-e327642085ee",
   "metadata": {},
   "outputs": [],
   "source": [
    "\n",
    "scaler = StandardScaler()\n",
    "X_train_scaled = scaler.fit_transform(X_train)\n",
    "X_test_scaled = scaler.transform(X_test)\n"
   ]
  },
  {
   "cell_type": "code",
   "execution_count": 125,
   "id": "1f998f37-7358-45e9-a8a4-a97c19a2460b",
   "metadata": {},
   "outputs": [],
   "source": [
    "from imblearn.over_sampling import SMOTE\n",
    "\n",
    "smote = SMOTE(random_state=42)\n",
    "X_train_smote, y_train_smote = smote.fit_resample(X_train_scaled, y_train)\n"
   ]
  },
  {
   "cell_type": "code",
   "execution_count": 126,
   "id": "c1220340-d73f-4c97-9513-22dc15972683",
   "metadata": {},
   "outputs": [],
   "source": [
    "# List of models to evaluate\n",
    "models = {\n",
    "    \"Logistic Regression\": LogisticRegression(),\n",
    "    \"Decision Tree\": DecisionTreeClassifier(),\n",
    "    \"Random Forest\": RandomForestClassifier(),\n",
    "    \"Support Vector Machine\": SVC(probability=True),\n",
    "    \"XGBoost\": XGBClassifier( use_label_encoder=False,eval_metric='logloss'),\n",
    "    \"Naive Bayes\": GaussianNB(),\n",
    "    \"K-Nearest Neighbors\": KNeighborsClassifier()\n",
    "}"
   ]
  },
  {
   "cell_type": "markdown",
   "id": "1c9a41ee-d60c-48e2-a9c9-9e2564ad5392",
   "metadata": {},
   "source": [
    "### Evaluation"
   ]
  },
  {
   "cell_type": "code",
   "execution_count": 127,
   "id": "baaec83f-b531-4a69-be5e-23a9b4a0727d",
   "metadata": {},
   "outputs": [
    {
     "name": "stdout",
     "output_type": "stream",
     "text": [
      "Model: Logistic Regression\n",
      "Sample Predictions: [0 1 0 0 0 0 1 0 0 0]\n",
      "F1 Score: 0.4795321637426901\n",
      "Precision: 0.5125\n",
      "Recall: 0.45054945054945056\n",
      "AUC ROC: 0.898629274194885\n",
      "Classification Report:\n",
      "               precision    recall  f1-score   support\n",
      "\n",
      "           0       0.93      0.94      0.93       663\n",
      "           1       0.51      0.45      0.48        91\n",
      "\n",
      "    accuracy                           0.88       754\n",
      "   macro avg       0.72      0.70      0.71       754\n",
      "weighted avg       0.88      0.88      0.88       754\n",
      "\n",
      "============================================================\n",
      "Model: Decision Tree\n",
      "Sample Predictions: [0 1 0 0 0 0 1 0 0 0]\n",
      "F1 Score: 0.8625592417061612\n",
      "Precision: 0.7583333333333333\n",
      "Recall: 1.0\n",
      "AUC ROC: 0.9781297134238311\n",
      "Classification Report:\n",
      "               precision    recall  f1-score   support\n",
      "\n",
      "           0       1.00      0.96      0.98       663\n",
      "           1       0.76      1.00      0.86        91\n",
      "\n",
      "    accuracy                           0.96       754\n",
      "   macro avg       0.88      0.98      0.92       754\n",
      "weighted avg       0.97      0.96      0.96       754\n",
      "\n",
      "============================================================\n",
      "Model: Random Forest\n",
      "Sample Predictions: [0 0 0 0 0 0 1 0 0 0]\n",
      "F1 Score: 0.9036144578313253\n",
      "Precision: 1.0\n",
      "Recall: 0.8241758241758241\n",
      "AUC ROC: 0.9994447483135266\n",
      "Classification Report:\n",
      "               precision    recall  f1-score   support\n",
      "\n",
      "           0       0.98      1.00      0.99       663\n",
      "           1       1.00      0.82      0.90        91\n",
      "\n",
      "    accuracy                           0.98       754\n",
      "   macro avg       0.99      0.91      0.95       754\n",
      "weighted avg       0.98      0.98      0.98       754\n",
      "\n",
      "============================================================\n",
      "Model: Support Vector Machine\n",
      "Sample Predictions: [0 0 0 0 0 0 0 0 0 0]\n",
      "F1 Score: 0.3188405797101449\n",
      "Precision: 0.46808510638297873\n",
      "Recall: 0.24175824175824176\n",
      "AUC ROC: 0.8035569257288715\n",
      "Classification Report:\n",
      "               precision    recall  f1-score   support\n",
      "\n",
      "           0       0.90      0.96      0.93       663\n",
      "           1       0.47      0.24      0.32        91\n",
      "\n",
      "    accuracy                           0.88       754\n",
      "   macro avg       0.69      0.60      0.63       754\n",
      "weighted avg       0.85      0.88      0.86       754\n",
      "\n",
      "============================================================\n",
      "Model: XGBoost\n",
      "Sample Predictions: [0 0 0 0 0 0 1 0 0 0]\n",
      "F1 Score: 0.967741935483871\n",
      "Precision: 0.9473684210526315\n",
      "Recall: 0.989010989010989\n",
      "AUC ROC: 0.9989392206586776\n",
      "Classification Report:\n",
      "               precision    recall  f1-score   support\n",
      "\n",
      "           0       1.00      0.99      1.00       663\n",
      "           1       0.95      0.99      0.97        91\n",
      "\n",
      "    accuracy                           0.99       754\n",
      "   macro avg       0.97      0.99      0.98       754\n",
      "weighted avg       0.99      0.99      0.99       754\n",
      "\n",
      "============================================================\n",
      "Model: Naive Bayes\n",
      "Sample Predictions: [0 0 0 0 0 0 0 1 0 0]\n",
      "F1 Score: 0.21671826625386995\n",
      "Precision: 0.15086206896551724\n",
      "Recall: 0.38461538461538464\n",
      "AUC ROC: 0.5437405731523378\n",
      "Classification Report:\n",
      "               precision    recall  f1-score   support\n",
      "\n",
      "           0       0.89      0.70      0.79       663\n",
      "           1       0.15      0.38      0.22        91\n",
      "\n",
      "    accuracy                           0.66       754\n",
      "   macro avg       0.52      0.54      0.50       754\n",
      "weighted avg       0.80      0.66      0.72       754\n",
      "\n",
      "============================================================\n",
      "Model: K-Nearest Neighbors\n",
      "Sample Predictions: [1 0 1 0 0 1 0 1 1 1]\n",
      "F1 Score: 0.21575342465753428\n",
      "Precision: 0.12778904665314403\n",
      "Recall: 0.6923076923076923\n",
      "AUC ROC: 0.5508096729816188\n",
      "Classification Report:\n",
      "               precision    recall  f1-score   support\n",
      "\n",
      "           0       0.89      0.35      0.50       663\n",
      "           1       0.13      0.69      0.22        91\n",
      "\n",
      "    accuracy                           0.39       754\n",
      "   macro avg       0.51      0.52      0.36       754\n",
      "weighted avg       0.80      0.39      0.47       754\n",
      "\n",
      "============================================================\n"
     ]
    }
   ],
   "source": [
    "for name, model in models.items():\n",
    "    model.fit(X_train_smote, y_train_smote)\n",
    "    y_pred = model.predict(X_test_scaled)\n",
    "    y_prob = model.predict_proba(X_test_scaled)[:, 1]\n",
    "\n",
    "    print(f\"Model: {name}\")\n",
    "    print(\"Sample Predictions:\", y_pred[:10])\n",
    "    print(\"F1 Score:\", f1_score(y_test, y_pred))\n",
    "    print(\"Precision:\", precision_score(y_test, y_pred))\n",
    "    print(\"Recall:\", recall_score(y_test, y_pred))\n",
    "    print(\"AUC ROC:\", roc_auc_score(y_test, y_prob))\n",
    "    print(\"Classification Report:\\n\", classification_report(y_test, y_pred))\n",
    "    print(\"=\" * 60)\n"
   ]
  },
  {
   "cell_type": "markdown",
   "id": "1318ec87-16d1-4b63-ae36-613d37d7fbcf",
   "metadata": {},
   "source": [
    "### Hyperparameter Tuning"
   ]
  },
  {
   "cell_type": "code",
   "execution_count": 128,
   "id": "78df3334-a2be-4298-9170-7bfaec74cd65",
   "metadata": {},
   "outputs": [
    {
     "name": "stdout",
     "output_type": "stream",
     "text": [
      "Best Params: {'learning_rate': 0.1, 'max_depth': 3, 'n_estimators': 150}\n"
     ]
    }
   ],
   "source": [
    "from sklearn.model_selection import GridSearchCV\n",
    "param_grid = {\n",
    "    'max_depth': [3, 5, 7],\n",
    "    'n_estimators': [100, 150],\n",
    "    'learning_rate': [0.05, 0.1, 0.2]\n",
    "}\n",
    "\n",
    "grid = GridSearchCV(\n",
    "    estimator=XGBClassifier(eval_metric='logloss', use_label_encoder=False ),\n",
    "    param_grid=param_grid,\n",
    "    scoring='f1',\n",
    "    cv=3,\n",
    "    n_jobs=-1\n",
    ")\n",
    "\n",
    "grid.fit(X_train_smote, y_train_smote)\n",
    "\n",
    "print(\"Best Params:\", grid.best_params_)\n",
    "best_model = grid.best_estimator_\n"
   ]
  },
  {
   "cell_type": "markdown",
   "id": "4fa43fa2-0c39-4430-9387-2c941f406716",
   "metadata": {},
   "source": [
    "### Deep Learning Models"
   ]
  },
  {
   "cell_type": "code",
   "execution_count": 129,
   "id": "7a0ccb21-0574-4f1a-be4f-2ef6d20f3bc0",
   "metadata": {},
   "outputs": [
    {
     "name": "stdout",
     "output_type": "stream",
     "text": [
      "Epoch 1/10\n",
      "\u001b[1m78/78\u001b[0m \u001b[32m━━━━━━━━━━━━━━━━━━━━\u001b[0m\u001b[37m\u001b[0m \u001b[1m2s\u001b[0m 4ms/step - accuracy: 0.6434 - loss: 0.6089 - val_accuracy: 0.9159 - val_loss: 0.2785\n",
      "Epoch 2/10\n",
      "\u001b[1m78/78\u001b[0m \u001b[32m━━━━━━━━━━━━━━━━━━━━\u001b[0m\u001b[37m\u001b[0m \u001b[1m0s\u001b[0m 2ms/step - accuracy: 0.9346 - loss: 0.1936 - val_accuracy: 0.9887 - val_loss: 0.0898\n",
      "Epoch 3/10\n",
      "\u001b[1m78/78\u001b[0m \u001b[32m━━━━━━━━━━━━━━━━━━━━\u001b[0m\u001b[37m\u001b[0m \u001b[1m0s\u001b[0m 2ms/step - accuracy: 0.9915 - loss: 0.0581 - val_accuracy: 1.0000 - val_loss: 0.0283\n",
      "Epoch 4/10\n",
      "\u001b[1m78/78\u001b[0m \u001b[32m━━━━━━━━━━━━━━━━━━━━\u001b[0m\u001b[37m\u001b[0m \u001b[1m0s\u001b[0m 1ms/step - accuracy: 0.9994 - loss: 0.0201 - val_accuracy: 1.0000 - val_loss: 0.0167\n",
      "Epoch 5/10\n",
      "\u001b[1m78/78\u001b[0m \u001b[32m━━━━━━━━━━━━━━━━━━━━\u001b[0m\u001b[37m\u001b[0m \u001b[1m0s\u001b[0m 2ms/step - accuracy: 1.0000 - loss: 0.0095 - val_accuracy: 1.0000 - val_loss: 0.0051\n",
      "Epoch 6/10\n",
      "\u001b[1m78/78\u001b[0m \u001b[32m━━━━━━━━━━━━━━━━━━━━\u001b[0m\u001b[37m\u001b[0m \u001b[1m0s\u001b[0m 2ms/step - accuracy: 1.0000 - loss: 0.0047 - val_accuracy: 1.0000 - val_loss: 0.0043\n",
      "Epoch 7/10\n",
      "\u001b[1m78/78\u001b[0m \u001b[32m━━━━━━━━━━━━━━━━━━━━\u001b[0m\u001b[37m\u001b[0m \u001b[1m0s\u001b[0m 2ms/step - accuracy: 1.0000 - loss: 0.0025 - val_accuracy: 1.0000 - val_loss: 0.0025\n",
      "Epoch 8/10\n",
      "\u001b[1m78/78\u001b[0m \u001b[32m━━━━━━━━━━━━━━━━━━━━\u001b[0m\u001b[37m\u001b[0m \u001b[1m0s\u001b[0m 2ms/step - accuracy: 1.0000 - loss: 0.0017 - val_accuracy: 1.0000 - val_loss: 0.0017\n",
      "Epoch 9/10\n",
      "\u001b[1m78/78\u001b[0m \u001b[32m━━━━━━━━━━━━━━━━━━━━\u001b[0m\u001b[37m\u001b[0m \u001b[1m0s\u001b[0m 3ms/step - accuracy: 1.0000 - loss: 0.0013 - val_accuracy: 1.0000 - val_loss: 0.0013\n",
      "Epoch 10/10\n",
      "\u001b[1m78/78\u001b[0m \u001b[32m━━━━━━━━━━━━━━━━━━━━\u001b[0m\u001b[37m\u001b[0m \u001b[1m0s\u001b[0m 2ms/step - accuracy: 1.0000 - loss: 9.2720e-04 - val_accuracy: 1.0000 - val_loss: 0.0011\n"
     ]
    }
   ],
   "source": [
    "from tensorflow.keras.models import Sequential\n",
    "from tensorflow.keras.layers import Dense\n",
    "from tensorflow.keras.callbacks import EarlyStopping\n",
    "\n",
    "# Define the model\n",
    "model = Sequential([\n",
    "    Dense(64, activation='relu', input_shape=(X_train_smote.shape[1],)),\n",
    "    Dense(32, activation='relu'),\n",
    "    Dense(1, activation='sigmoid')  # Binary classification\n",
    "])\n",
    "\n",
    "# Compile the model\n",
    "model.compile(\n",
    "    optimizer='adam',\n",
    "    loss='binary_crossentropy',\n",
    "    metrics=['accuracy']\n",
    ")\n",
    "\n",
    "# Fit the model\n",
    "history = model.fit(\n",
    "    X_train_smote, y_train_smote,                   # Use SMOTE'd data\n",
    "    epochs=10,\n",
    "    validation_split=0.2,\n",
    "    callbacks=[EarlyStopping(patience=3, restore_best_weights=True)],  # Optional: restore best model\n",
    "    verbose=1\n",
    ")\n"
   ]
  },
  {
   "cell_type": "code",
   "execution_count": 130,
   "id": "da8facb2-b9e9-4fc8-8478-359789f1f083",
   "metadata": {},
   "outputs": [
    {
     "name": "stdout",
     "output_type": "stream",
     "text": [
      "\u001b[1m24/24\u001b[0m \u001b[32m━━━━━━━━━━━━━━━━━━━━\u001b[0m\u001b[37m\u001b[0m \u001b[1m0s\u001b[0m 3ms/step\n",
      "AUC ROC: 0.7743026204564666\n",
      "              precision    recall  f1-score   support\n",
      "\n",
      "           0       0.90      0.97      0.93       663\n",
      "           1       0.50      0.25      0.34        91\n",
      "\n",
      "    accuracy                           0.88       754\n",
      "   macro avg       0.70      0.61      0.63       754\n",
      "weighted avg       0.86      0.88      0.86       754\n",
      "\n"
     ]
    }
   ],
   "source": [
    "from sklearn.metrics import classification_report, roc_auc_score\n",
    "\n",
    "y_pred_prob = model.predict(X_test_scaled).ravel()\n",
    "y_pred_class = (y_pred_prob > 0.5).astype(int)\n",
    "\n",
    "print(\"AUC ROC:\", roc_auc_score(y_test, y_pred_prob))\n",
    "print(classification_report(y_test, y_pred_class))\n"
   ]
  },
  {
   "cell_type": "markdown",
   "id": "1fbaf0c0-9cb6-4985-a319-b9e424f0fa89",
   "metadata": {},
   "source": [
    "### Summary Table"
   ]
  },
  {
   "cell_type": "code",
   "execution_count": 131,
   "id": "2c34742f-c312-4be7-b9e0-aa9f35b2755d",
   "metadata": {},
   "outputs": [
    {
     "name": "stdout",
     "output_type": "stream",
     "text": [
      "Model: Logistic Regression\n",
      "Sample Predictions: [0 1 0 0 0 0 1 0 0 0]\n",
      "F1 Score: 0.4795321637426901\n",
      "Precision: 0.5125\n",
      "Recall: 0.45054945054945056\n",
      "AUC ROC: 0.898629274194885\n",
      "Classification Report:\n",
      "               precision    recall  f1-score   support\n",
      "\n",
      "           0       0.93      0.94      0.93       663\n",
      "           1       0.51      0.45      0.48        91\n",
      "\n",
      "    accuracy                           0.88       754\n",
      "   macro avg       0.72      0.70      0.71       754\n",
      "weighted avg       0.88      0.88      0.88       754\n",
      "\n",
      "============================================================\n",
      "Model: Decision Tree\n",
      "Sample Predictions: [0 1 0 0 0 0 1 0 0 0]\n",
      "F1 Score: 0.8666666666666666\n",
      "Precision: 0.7647058823529411\n",
      "Recall: 1.0\n",
      "AUC ROC: 0.9788838612368025\n",
      "Classification Report:\n",
      "               precision    recall  f1-score   support\n",
      "\n",
      "           0       1.00      0.96      0.98       663\n",
      "           1       0.76      1.00      0.87        91\n",
      "\n",
      "    accuracy                           0.96       754\n",
      "   macro avg       0.88      0.98      0.92       754\n",
      "weighted avg       0.97      0.96      0.96       754\n",
      "\n",
      "============================================================\n",
      "Model: Random Forest\n",
      "Sample Predictions: [0 0 0 0 0 0 1 0 0 0]\n",
      "F1 Score: 0.8227848101265823\n",
      "Precision: 0.9701492537313433\n",
      "Recall: 0.7142857142857143\n",
      "AUC ROC: 0.99774584389969\n",
      "Classification Report:\n",
      "               precision    recall  f1-score   support\n",
      "\n",
      "           0       0.96      1.00      0.98       663\n",
      "           1       0.97      0.71      0.82        91\n",
      "\n",
      "    accuracy                           0.96       754\n",
      "   macro avg       0.97      0.86      0.90       754\n",
      "weighted avg       0.96      0.96      0.96       754\n",
      "\n",
      "============================================================\n",
      "Model: Support Vector Machine\n",
      "Sample Predictions: [0 0 0 0 0 0 0 0 0 0]\n",
      "F1 Score: 0.3188405797101449\n",
      "Precision: 0.46808510638297873\n",
      "Recall: 0.24175824175824176\n",
      "AUC ROC: 0.8035569257288715\n",
      "Classification Report:\n",
      "               precision    recall  f1-score   support\n",
      "\n",
      "           0       0.90      0.96      0.93       663\n",
      "           1       0.47      0.24      0.32        91\n",
      "\n",
      "    accuracy                           0.88       754\n",
      "   macro avg       0.69      0.60      0.63       754\n",
      "weighted avg       0.85      0.88      0.86       754\n",
      "\n",
      "============================================================\n",
      "Model: XGBoost\n",
      "Sample Predictions: [0 0 0 0 0 0 1 0 0 0]\n",
      "F1 Score: 0.967741935483871\n",
      "Precision: 0.9473684210526315\n",
      "Recall: 0.989010989010989\n",
      "AUC ROC: 0.9989392206586776\n",
      "Classification Report:\n",
      "               precision    recall  f1-score   support\n",
      "\n",
      "           0       1.00      0.99      1.00       663\n",
      "           1       0.95      0.99      0.97        91\n",
      "\n",
      "    accuracy                           0.99       754\n",
      "   macro avg       0.97      0.99      0.98       754\n",
      "weighted avg       0.99      0.99      0.99       754\n",
      "\n",
      "============================================================\n",
      "Model: Naive Bayes\n",
      "Sample Predictions: [0 0 0 0 0 0 0 1 0 0]\n",
      "F1 Score: 0.21671826625386995\n",
      "Precision: 0.15086206896551724\n",
      "Recall: 0.38461538461538464\n",
      "AUC ROC: 0.5437405731523378\n",
      "Classification Report:\n",
      "               precision    recall  f1-score   support\n",
      "\n",
      "           0       0.89      0.70      0.79       663\n",
      "           1       0.15      0.38      0.22        91\n",
      "\n",
      "    accuracy                           0.66       754\n",
      "   macro avg       0.52      0.54      0.50       754\n",
      "weighted avg       0.80      0.66      0.72       754\n",
      "\n",
      "============================================================\n",
      "Model: K-Nearest Neighbors\n",
      "Sample Predictions: [1 0 1 0 0 1 0 1 1 1]\n",
      "F1 Score: 0.21575342465753428\n",
      "Precision: 0.12778904665314403\n",
      "Recall: 0.6923076923076923\n",
      "AUC ROC: 0.5508096729816188\n",
      "Classification Report:\n",
      "               precision    recall  f1-score   support\n",
      "\n",
      "           0       0.89      0.35      0.50       663\n",
      "           1       0.13      0.69      0.22        91\n",
      "\n",
      "    accuracy                           0.39       754\n",
      "   macro avg       0.51      0.52      0.36       754\n",
      "weighted avg       0.80      0.39      0.47       754\n",
      "\n",
      "============================================================\n",
      "Model: Deep Learning (Keras)\n",
      "Sample Predictions: [1 0 1 0 0 1 0 1 1 1]\n",
      "F1 Score: 0.21575342465753428\n",
      "Precision: 0.12778904665314403\n",
      "Recall: 0.6923076923076923\n",
      "AUC ROC: 0.5218702865761689\n",
      "Classification Report:\n",
      "               precision    recall  f1-score   support\n",
      "\n",
      "           0       0.89      0.35      0.50       663\n",
      "           1       0.13      0.69      0.22        91\n",
      "\n",
      "    accuracy                           0.39       754\n",
      "   macro avg       0.51      0.52      0.36       754\n",
      "weighted avg       0.80      0.39      0.47       754\n",
      "\n",
      "============================================================\n",
      "\n",
      " Summary Table:\n",
      "                    Model  F1 Score  Precision    Recall   AUC ROC\n",
      "4                 XGBoost  0.967742   0.947368  0.989011  0.998939\n",
      "1           Decision Tree  0.866667   0.764706  1.000000  0.978884\n",
      "2           Random Forest  0.822785   0.970149  0.714286  0.997746\n",
      "0     Logistic Regression  0.479532   0.512500  0.450549  0.898629\n",
      "3  Support Vector Machine  0.318841   0.468085  0.241758  0.803557\n",
      "5             Naive Bayes  0.216718   0.150862  0.384615  0.543741\n",
      "6     K-Nearest Neighbors  0.215753   0.127789  0.692308  0.550810\n",
      "7   Deep Learning (Keras)  0.215753   0.127789  0.692308  0.521870\n"
     ]
    }
   ],
   "source": [
    "import pandas as pd\n",
    "from sklearn.metrics import f1_score, precision_score, recall_score, roc_auc_score, classification_report\n",
    "\n",
    "# Initialize results list\n",
    "model_results = []\n",
    "\n",
    "# Loop for ML models\n",
    "for name, model in models.items():\n",
    "    model.fit(X_train_smote, y_train_smote)\n",
    "    y_pred = model.predict(X_test_scaled)\n",
    "    y_prob = model.predict_proba(X_test_scaled)[:, 1]\n",
    "\n",
    "    # Print \n",
    "    print(f\"Model: {name}\")\n",
    "    print(\"Sample Predictions:\", y_pred[:10])\n",
    "    print(\"F1 Score:\", f1_score(y_test, y_pred))\n",
    "    print(\"Precision:\", precision_score(y_test, y_pred))\n",
    "    print(\"Recall:\", recall_score(y_test, y_pred))\n",
    "    print(\"AUC ROC:\", roc_auc_score(y_test, y_prob))\n",
    "    print(\"Classification Report:\\n\", classification_report(y_test, y_pred))\n",
    "    print(\"=\" * 60)\n",
    "\n",
    "    # Append results to summary table\n",
    "    model_results.append({\n",
    "        'Model': name,\n",
    "        'F1 Score': f1_score(y_test, y_pred),\n",
    "        'Precision': precision_score(y_test, y_pred),\n",
    "        'Recall': recall_score(y_test, y_pred),\n",
    "        'AUC ROC': roc_auc_score(y_test, y_prob)\n",
    "    })\n",
    "\n",
    "# Deep Learning model (already trained earlier)\n",
    "y_pred_prob_dl = model.predict(X_test_scaled).ravel()\n",
    "y_pred_class_dl = (y_pred_prob_dl > 0.5).astype(int)\n",
    "\n",
    "# Print DL results\n",
    "print(\"Model: Deep Learning (Keras)\")\n",
    "print(\"Sample Predictions:\", y_pred_class_dl[:10])\n",
    "print(\"F1 Score:\", f1_score(y_test, y_pred_class_dl))\n",
    "print(\"Precision:\", precision_score(y_test, y_pred_class_dl))\n",
    "print(\"Recall:\", recall_score(y_test, y_pred_class_dl))\n",
    "print(\"AUC ROC:\", roc_auc_score(y_test, y_pred_prob_dl))\n",
    "print(\"Classification Report:\\n\", classification_report(y_test, y_pred_class_dl))\n",
    "print(\"=\" * 60)\n",
    "\n",
    "# Append DL to summary\n",
    "model_results.append({\n",
    "    'Model': 'Deep Learning (Keras)',\n",
    "    'F1 Score': f1_score(y_test, y_pred_class_dl),\n",
    "    'Precision': precision_score(y_test, y_pred_class_dl),\n",
    "    'Recall': recall_score(y_test, y_pred_class_dl),\n",
    "    'AUC ROC': roc_auc_score(y_test, y_pred_prob_dl)\n",
    "})\n",
    "\n",
    "# Create and display summary table\n",
    "results_df = pd.DataFrame(model_results)\n",
    "results_df = results_df.sort_values(by='F1 Score', ascending=False)\n",
    "print(\"\\n Summary Table:\")\n",
    "print(results_df)\n"
   ]
  },
  {
   "cell_type": "markdown",
   "id": "646334ac-da13-495d-8a4c-0cfbd9e939ba",
   "metadata": {},
   "source": [
    "### From summary table we observed that Xgboost is the suitable model so we will deploy it"
   ]
  },
  {
   "cell_type": "markdown",
   "id": "9629e20b-726e-4628-927f-81b35db75ab6",
   "metadata": {},
   "source": [
    "### Finish Model"
   ]
  },
  {
   "cell_type": "code",
   "execution_count": 132,
   "id": "036bcc1a-25ec-4366-84fb-bd3aef3086d3",
   "metadata": {},
   "outputs": [
    {
     "data": {
      "text/plain": [
       "['xgb_model_features.pkl']"
      ]
     },
     "execution_count": 132,
     "metadata": {},
     "output_type": "execute_result"
    }
   ],
   "source": [
    "import joblib\n",
    "\n",
    "joblib.dump(best_model, 'xgb_best_model.pkl')\n",
    "joblib.dump(scaler, 'scaler.pkl')\n",
    "joblib.dump(X_train.columns.tolist(), 'xgb_model_features.pkl')\n",
    "\n"
   ]
  },
  {
   "cell_type": "code",
   "execution_count": null,
   "id": "56ef362d-7fc9-44c1-8f82-de5b89301fdf",
   "metadata": {},
   "outputs": [],
   "source": []
  }
 ],
 "metadata": {
  "kernelspec": {
   "display_name": "Python 3 (ipykernel)",
   "language": "python",
   "name": "python3"
  },
  "language_info": {
   "codemirror_mode": {
    "name": "ipython",
    "version": 3
   },
   "file_extension": ".py",
   "mimetype": "text/x-python",
   "name": "python",
   "nbconvert_exporter": "python",
   "pygments_lexer": "ipython3",
   "version": "3.11.7"
  }
 },
 "nbformat": 4,
 "nbformat_minor": 5
}
